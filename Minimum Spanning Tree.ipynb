{
 "cells": [
  {
   "cell_type": "markdown",
   "metadata": {
    "slideshow": {
     "slide_type": "slide"
    }
   },
   "source": [
    "\n",
    "# Demonstrating  Kruskal's Minimum Spanning Tree Algorithm\n",
    "\n",
    "### 1. [Usecases](#usecases)\n",
    "### 2. [Minimum Spanning Tree](#mst)\n",
    "### 3. [The Solution: Kruskal's Algorithm](#solution)\n",
    "### 4. [Complexity Analysis](#analysis)\n",
    "### 5. [Sources](#sources)\n",
    "\n",
    "---\n",
    "\n",
    "Made by Mandeep\n",
    "\n",
    "Github: https://github.com/llGOKUll\n",
    "\n",
    "Email: mandeepch868@gmail.com"
   ]
  },
  {
   "cell_type": "markdown",
   "metadata": {
    "slideshow": {
     "slide_type": "slide"
    }
   },
   "source": [
    "## Usescases <a class=\"anchor\" id=\"usecases\"></a>\n",
    "\n",
    "We begin with describing the situations where Kruskal's MST can be put to use.\n",
    "\n",
    "### **Aftermath of a disaster**, leads to disconnected road networks.The *minimum number of roads* that required to built to restore travelling among all required places such as Hospitals, Post Office, etc.\n",
    "<div style=\"margin:4rem\"/>\n",
    "<div style=\"display:flex\">\n",
    "<img src=\"http://s3.amazonaws.com/darkroom-cdn/2015/05/AP-Nepal-Earthquake-2.jpg\" alt=\"Drawing\" style=\"width: 500px;\"/>\n",
    "<img src=\"https://images.unsplash.com/photo-1601931163309-fe9459564c03?ixid=MXwxMjA3fDB8MHxwaG90by1wYWdlfHx8fGVufDB8fHw%3D&ixlib=rb-1.2.1&auto=format&fit=crop&w=634&q=80\" alt=\"Drawing\" style=\"width: 300px;\"/>    \n",
    "</div>\n",
    "\n",
    "<div style=\"margin:4rem\"/>\n",
    "\n",
    "### **Optimizing Water pipelines** to *connect all fields* without redundant connections and utilizing minimum number of pipes. \n",
    "<img src=\"https://images.unsplash.com/photo-1523741543316-beb7fc7023d8?ixid=MXwxMjA3fDB8MHxwaG90by1wYWdlfHx8fGVufDB8fHw%3D&ixlib=rb-1.2.1&auto=format&fit=crop&w=968&q=80\" alt=\"Drawing\" style=\"width: 400px;\"/>  \n",
    "\n",
    "<div style=\"margin:4rem\"/>\n",
    "\n",
    "### **Covering all clients subscribing to ethernet/cable plan**\n",
    "<img src=\"https://images.unsplash.com/photo-1513985505990-bd315ef2157a?ixid=MXwxMjA3fDB8MHxwaG90by1wYWdlfHx8fGVufDB8fHw%3D&ixlib=rb-1.2.1&auto=format&fit=crop&w=968&q=80\" alt=\"Drawing\" style=\"width: 500px;\"/>  "
   ]
  },
  {
   "cell_type": "markdown",
   "metadata": {
    "slideshow": {
     "slide_type": "slide"
    }
   },
   "source": [
    "## Minimum Spanning Tree <a class=\"anchor\" id=\"mst\"></a>\n",
    "\n",
    "### A spanning tree of an undirected graph G is an undirected graph which:\n",
    "+ contains all the vertices of G\n",
    "+ contains only edges of G\n",
    "+ has no cycles\n",
    "+ is connected\n",
    "+ A spanning tree is called “spanning” because it connects all the graph’s vertices\n",
    "+ A spanning tree is called a “tree” because it has no cycles\n",
    "\n",
    "### Minimum ?\n",
    "\n",
    "+ A single graph can have many different spanning trees\n",
    "+ They all must have the same number of edges \n",
    "+ But if it is a weighted graph, they may differ in the total weight of their edges\n",
    "+ Of all spanning trees in a weighted graph, one with the least total weight is a minimum spanning tree (MST)\n",
    "\n",
    "> In Simple Words, Minimum Spanning Tree is a Tree which covers all Vertices with minimum net total edge weight\n",
    "\n",
    "### History\n",
    "> Czech scientist Otakar Borůvka developed the first known algorithm for finding a minimum spanning tree, in 1926. He wanted to solve the problem of finding an efficient coverage of Moravia with electricity. \n",
    ">\n",
    "> Today, this algorithm is known as Borůvka's algorithm. \n",
    "\n",
    "#### Two other algorithms are commonly used today. \n",
    "+ One of them was developed by Vojtěch Jarník in 1930, and put in practice by Robert Clay Prim in 1957. Edsger Wybe Dijkstra rediscovered it in 1959, and called it **Prim's algorithm**. \n",
    "+ The other algorithm is called **Kruskal's algorithm**, and was pulbished by Joseph Kruskal in 1956. All three algorithms are greedy, and run in polynomial time."
   ]
  },
  {
   "cell_type": "markdown",
   "metadata": {
    "heading_collapsed": true,
    "slideshow": {
     "slide_type": "slide"
    }
   },
   "source": [
    "## The Solution: Kruskal's Algorithm <a class=\"anchor\" id=\"solution\"></a>\n",
    "\n",
    "###  Definition\n",
    "+ Kruskal's algorithm finds a minimum spanning forest of an undirected edge-weighted graph. If the graph is connected, it finds a minimum spanning tree.\n",
    " \n",
    "+ It is a greedy algorithm in graph theory as in each step it adds the next lowest-weight edge that will not form a cycle to the minimum spanning forest.\n",
    "\n",
    "### Working\n",
    "> Kruskal’s algorithm finds a safe edge to add to the growing forest by finding, of all\n",
    "> the edges that connect any two trees in the forest, an edge (u,v) of least weight.\n",
    "From CLRS\n",
    "\n",
    "#### The Entire Algorithm Boils down to following operations\n",
    "+ Assume Initial Graph G1  and Final Graph as G2, which is initially empty\n",
    "+ **Sort** all the edges of G1 in non-decreasing order\n",
    "+ For Each Edge perform the following operations:\n",
    "    - Add The Edge: If the edge does not form a Cycle.\n",
    "    - Do Not Add Edge: If adding the edge leads to a Cycle\n",
    "+ At the termination of the Algorithm, you get the Minimum Spanning Tree\n",
    "\n",
    "#### Time Complexity \n",
    "\n",
    "Using $N*log(n)$ sorting and optimized Disjoint Set(UnionFind) data structure\n",
    "we get the Time Complexity as $O(E*log(V))$\n",
    "\n",
    "> For Entire Complexity Proof, scroll to bottom.\n",
    "\n",
    "\n",
    "#### History\n",
    "- This algorithm first appeared in Proceedings of the American Mathematical Society, pp. 48–50 in 1956, and was written by Joseph Kruskal.\n"
   ]
  },
  {
   "cell_type": "markdown",
   "metadata": {
    "slideshow": {
     "slide_type": "slide"
    }
   },
   "source": [
    "## The Simulation <a class=\"anchor\" id=\"simulation\"></a>\n",
    "\n",
    "We Simulate the problem by using **Objects** as a substitute for Entity in the Problem like a **House**, **Buildings**, **Farm Fields** etc. \n",
    "<span style=\"background-color: aliceblue; padding: 2px;\">These are equivalent to Vertices in Graph.</span>\n",
    "\n",
    "And **Edge** describes the connection between Two such Object. \n",
    "\n",
    "We simulate the environment by creating **N** Nodes and **M** Edges that describe \"M\" possible connections (edges)   <span style=\"background-color: aliceblue; padding: 2px;\">And The Algorithm's AIM is to find the minimum cost path.</span>.\n",
    "Both being variables."
   ]
  },
  {
   "cell_type": "code",
   "execution_count": 2,
   "metadata": {
    "slideshow": {
     "slide_type": "subslide"
    }
   },
   "outputs": [],
   "source": [
    "'''Helper functions and Global Imports'''\n",
    "\n",
    "from IPython.display import Markdown, display\n",
    "import graphviz as gv\n",
    "from gvanim import Animation\n",
    "import random\n",
    "from gvanim.jupyter import interactive\n",
    "random.seed(2)\n",
    "\n",
    "from notebook.services.config import ConfigManager\n",
    "cm = ConfigManager()\n",
    "cm.update('livereveal', {\n",
    "        'width': 1024,\n",
    "        'height': 768,\n",
    "        'scroll': True,\n",
    "})\n",
    "\n",
    "def printmd(string):\n",
    "    '''displays text in Markdown (effect only visible in Jupyter or IPython Notebook)'''\n",
    "    display(Markdown(string))\n",
    "    \n",
    "def highlight_node_and_edge(animation, u, v, w):\n",
    "    ''' \n",
    "    Used as helper function for Animation function.\n",
    "    Performs:\n",
    "        highlight initial and final node.\n",
    "        label edge with weight\n",
    "        highlight edge\n",
    "        \n",
    "    params;\n",
    "        u(Node): Initial Node\n",
    "        v(Node): Final Node\n",
    "        w(int): Edge Weight\n",
    "    '''\n",
    "    animation.highlight_node(u)\n",
    "    animation.highlight_node(v)         \n",
    "    animation.add_edge(u, v)\n",
    "    animation.label_edge(u,v, f\"Weight = {w}\")\n",
    "    animation.highlight_edge(u,v, color='light_gray')\n",
    "    animation.next_step()\n",
    "\n",
    "def highlight_positive_edge(animation, u, v):\n",
    "    '''highlight the edge with green color'''\n",
    "    animation.highlight_edge(u, v, color='green')         \n",
    "    animation.next_step()\n",
    "    \n",
    "def remove_and_highlight_edge(animation, u, v):\n",
    "    '''remove edge between u and v and highlight it with red color.'''\n",
    "    animation.highlight_edge(u, v, color='red')                 \n",
    "    animation.next_step()\n",
    "    animation.remove_edge(u, v)\n",
    "    animation.next_step()\n",
    "\n",
    "    "
   ]
  },
  {
   "cell_type": "code",
   "execution_count": 3,
   "metadata": {
    "slideshow": {
     "slide_type": "subslide"
    }
   },
   "outputs": [],
   "source": [
    "class Node:\n",
    "    '''\n",
    "        Represents a Node or Vertice in Graph. \n",
    "        \n",
    "        attributes:\n",
    "            name(String): value of the vertice\n",
    "            parent(Node): parent node of the vertice\n",
    "            rank(int): rank of vertice\n",
    "    '''\n",
    "    def __init__(self, name):\n",
    "        self.name = name\n",
    "        self.parent = self        \n",
    "        \n",
    "    def __str__(self):\n",
    "        return self.name\n",
    "    \n",
    "    def __eq__(self,b):\n",
    "        return self.name == b.name\n",
    "    \n",
    "    def __hash__(self):        \n",
    "        return hash(str(self))"
   ]
  },
  {
   "cell_type": "code",
   "execution_count": 4,
   "metadata": {
    "slideshow": {
     "slide_type": "subslide"
    }
   },
   "outputs": [],
   "source": [
    "class Edge:\n",
    "    '''\n",
    "        Represents an Edge between 2 nodes in a Graph.\n",
    "        \n",
    "        attributes:\n",
    "            initial(Node)\n",
    "            final(Node)\n",
    "            weight(Node)\n",
    "    '''\n",
    "    \n",
    "    def __init__(self, initial, final, weight):\n",
    "        self.initial = initial\n",
    "        self.final = final\n",
    "        self.weight = weight\n",
    "    \n",
    "    def __str__(self):\n",
    "        return f'{self.initial} -> {self.final}'\n",
    "    \n",
    "    def __eq__(self, other):\n",
    "        ls = [other.initial, other.final]\n",
    "        return self.initial in ls and self.final in ls\n",
    "    \n",
    "    def __hash__(self):\n",
    "        return hash(str(self))"
   ]
  },
  {
   "cell_type": "code",
   "execution_count": 5,
   "metadata": {
    "slideshow": {
     "slide_type": "subslide"
    }
   },
   "outputs": [],
   "source": [
    "class DisjointSet:\n",
    "    '''\n",
    "        UnionFind Implementation.\n",
    "        \n",
    "        Which solves the problem of dynamic connectivity problem in most efficient manner.\n",
    "        \n",
    "        > Idea is that we each set will have one representative, and two nodes are said to be in\n",
    "        same set (hence connected) if they have same representative node. - Achieved by Find operation\n",
    "        usin Path Compression.\n",
    "        \n",
    "        Path compression is an optimization to the standard disjoint-set forest, in this we flatten the \n",
    "        set structure by linking child nodes to representative node of the set (note: not parent but representative node)\n",
    "        \n",
    "        > To connect two nodes, we merge the two sets using rank by union appraoch.\n",
    "          In which the nodes belong two in a manner such that\n",
    "            - Set with smaller rank is merged in Set with Larger rank\n",
    "            - In case of equal set with rank we merge final node into initial node(vice versa will do)\n",
    "               and increment the rank of the parent.\n",
    "        \n",
    "        With Complexity of O(alpha(N)), where alpha is ackermann's function which grows extremely slow.\n",
    "        Resulting in Constant time operations on amortization.\n",
    "        \n",
    "        Union and Find methods use Union By Rank and Path Compression. \n",
    "        Allowing Very Fast Union and Find operations. \n",
    "    '''\n",
    "    def __init__(self, nodes=[]):\n",
    "        \n",
    "        self.ranks = dict()\n",
    "        self.make_set(nodes)\n",
    "    \n",
    "    def make_set(self, nodes:list):\n",
    "        ''' Initialises ranks of all nodes. Must be done prior to find and union operations'''\n",
    "        for node in nodes:\n",
    "            self.ranks[node] = 0        \n",
    "        print(self.ranks)\n",
    "         \n",
    "    def find(self, node):\n",
    "        '''Return representative node of the set'''\n",
    "        if(node.name != node.parent.name):\n",
    "            node.parent = self.find(node.parent)            \n",
    "        return node.parent\n",
    "    \n",
    "    def union(self, initial, final):     \n",
    "        ''' merges the sets containing initial and final nodes into a single set.'''\n",
    "        find_initial = self.find(initial)\n",
    "        find_final = self.find(final)\n",
    "        if(self.ranks[find_initial] > self.ranks[find_final]):\n",
    "            find_final.parent = find_initial\n",
    "        else:\n",
    "            find_initial.parent = find_final\n",
    "            if(self.ranks[find_initial] == self.ranks[find_final]):\n",
    "                self.ranks[find_final] += 1      "
   ]
  },
  {
   "cell_type": "code",
   "execution_count": 6,
   "metadata": {
    "slideshow": {
     "slide_type": "subslide"
    }
   },
   "outputs": [],
   "source": [
    "\"\"\" Helper Function to Generate Undirected Graph \"\"\"\n",
    "\n",
    "def generate_graph(num_nodes,num_edges, max_weight=100):\n",
    "    '''\n",
    "    Generates A Undirected Graph from provided configuration in parameter\n",
    "    params:\n",
    "        num_nodes(int): number of nodes the graph should contain\n",
    "        num_edges(int): maximum number of nodes the graph should contain, \n",
    "                        this should be less then number of edges in complete graph. ((n)*(n-1))/2\n",
    "    return:\n",
    "        nodes(Node): list of nodes\n",
    "        edges(Edge): list of edges\n",
    "    '''\n",
    "    assert(num_edges <= (num_nodes)*((num_nodes - 1)/2))\n",
    "    nodes = []\n",
    "    edges = []\n",
    "    for num in range(1,num_nodes+1):\n",
    "        node = Node(f'Node #{num}')\n",
    "        nodes.append(node)\n",
    "    edge_idx = 1\n",
    "    while edge_idx <= num_edges:\n",
    "        u_idx = random.randrange(0, num_nodes)\n",
    "        v_idx = random.randrange(0, num_nodes)\n",
    "        # avoid self-loop\n",
    "        if(u_idx != v_idx):\n",
    "            u = nodes[u_idx]\n",
    "            v = nodes[v_idx]\n",
    "            w = random.randint(1,max_weight)\n",
    "            edge = Edge(u,v,w)\n",
    "            # ensure edge is not repeated\n",
    "            if(edge not in edges):\n",
    "                edges.append(edge)\n",
    "                edge_idx += 1\n",
    "    return (nodes,edges)\n"
   ]
  },
  {
   "cell_type": "code",
   "execution_count": 7,
   "metadata": {
    "scrolled": false,
    "slideshow": {
     "slide_type": "subslide"
    }
   },
   "outputs": [
    {
     "name": "stdout",
     "output_type": "stream",
     "text": [
      "{}\n",
      "{<__main__.Node object at 0x05EB9710>: 0, <__main__.Node object at 0x05FDE670>: 0, <__main__.Node object at 0x05FDE630>: 0}\n"
     ]
    },
    {
     "data": {
      "application/vnd.jupyter.widget-view+json": {
       "model_id": "3910ca1b302644548829632167f9f9bc",
       "version_major": 2,
       "version_minor": 0
      },
      "text/plain": [
       "interactive(children=(IntSlider(value=0, description='n', max=7), Output()), _dom_classes=('widget-interact',)…"
      ]
     },
     "metadata": {},
     "output_type": "display_data"
    }
   ],
   "source": [
    "class Kruskal:\n",
    "    '''\n",
    "        Implementation of Kruskal's Algorithm using Optimised Disjoined Set Data Structure.\n",
    "        Allowing MST creation in O(Nlg(N)).\n",
    "    '''\n",
    "    \n",
    "    def __init__(self, nodes,edges):                \n",
    "        self.nodes = nodes\n",
    "        self.edges = edges\n",
    "        \n",
    "    def __str__(self):\n",
    "        for i in self.edges:\n",
    "            print(f'{i.initial} => {i.final}')\n",
    "        return ''\n",
    "        \n",
    "    def run(self):             \n",
    "        assert(len(self.nodes) > 0 and len(self.edges) > 0)\n",
    "        animation = Animation()\n",
    "        # create nodes for animation\n",
    "        for node in self.nodes:\n",
    "            animation.add_node(node)\n",
    "            animation.label_node(node,node.name)\n",
    "            \n",
    "        final_edges = []\n",
    "        # Operation #1 Sort by Edge Weight\n",
    "        sorted_edges = sorted(self.edges, key=lambda edge: edge.weight)\n",
    "        disjoint = DisjointSet()\n",
    "        disjoint.make_set(self.nodes)\n",
    "        for edge in sorted_edges:\n",
    "            initial = edge.initial\n",
    "            final = edge.final\n",
    "            highlight_node_and_edge(animation, initial,final, edge.weight)\n",
    "            # Operation #2 - If the nodes do not belong to same component/set/tree we add it to our final edges\n",
    "            if(disjoint.find(initial) != disjoint.find(final)):\n",
    "                highlight_positive_edge(animation, initial, final)\n",
    "                final_edges.append(edge)\n",
    "                disjoint.union(initial, final)\n",
    "            else:\n",
    "                remove_and_highlight_edge(animation, initial, final)        \n",
    "        return (final_edges, animation)\n",
    "    \n",
    "def test_kruskal():\n",
    "    '''Driver program to run across only 4 nodes'''    \n",
    "    a = Node('a')\n",
    "    b = Node('b')\n",
    "    c = Node('c')\n",
    "    e1 = Edge(a, b,10)\n",
    "    e2 = Edge(b, c,23)\n",
    "    e3 = Edge(a, c,45)\n",
    "    kruskal = Kruskal([a,b,c],[e1,e2,e3])\n",
    "    res, animation = kruskal.run()\n",
    "    display(interactive(animation, 400 ))\n",
    "test_kruskal()\n",
    "        "
   ]
  },
  {
   "cell_type": "markdown",
   "metadata": {
    "cell_style": "center",
    "slideshow": {
     "slide_type": "slide"
    }
   },
   "source": [
    "### Visualization\n",
    "\n",
    "#### We are going to use GraphViz Library for visualizing graphs and GraphVizAnim for interactive animation.\n",
    "\n",
    "Graphviz is open source graph visualization software. \n",
    "\n",
    "graphviz python library provides pyton binding. GraphVizAnim library is built on top of graphviz lib, which basically generates a graph everytime `next_step()` is called and displays the sequence interactively using IPython Interactive function\n",
    "\n",
    "\n",
    "Dependencies:\n",
    "- GraphVizAnim `!pip install GraphvizAnim`\n",
    "- GraphViz `!pip install graphviz`\n",
    "\n",
    "Checkout their website for more [graphviz project](https://graphviz.org/)"
   ]
  },
  {
   "cell_type": "code",
   "execution_count": 8,
   "metadata": {
    "slideshow": {
     "slide_type": "subslide"
    }
   },
   "outputs": [],
   "source": [
    "\"\"\" Helper Functions for displaying Graph\"\"\"\n",
    "\n",
    "def display_graph(title, nodes, edges):\n",
    "    \"\"\" Displays GraphViz graph from given :nodes and :edges with title as MD header\"\"\"\n",
    "    dot = gv.Digraph(engine='dot',strict=True)\n",
    "\n",
    "    for node in nodes:\n",
    "        dot.node(str(node))\n",
    "\n",
    "    for edge in edges:\n",
    "        dot.edge(str(edge.initial), str(edge.final), label=str(edge.weight))\n",
    "        \n",
    "    printmd(f'## {title}')\n",
    "    display(dot)\n",
    "\n",
    "def display_graph_edges_comparision(title, nodes, pre_edges, post_edges):\n",
    "    \"\"\" Displays graph with given nodes and coloring edges based on pre or post processing\"\"\"\n",
    "    dot = gv.Digraph(engine='dot',strict=True)\n",
    "\n",
    "    for node in nodes:\n",
    "        dot.node(str(node))\n",
    "\n",
    "    for edge in pre_edges: # first cover all edges with red\n",
    "        dot.edge(str(edge.initial), str(edge.final), label=str(edge.weight), color=\"red\")\n",
    "        \n",
    "    for edge in post_edges: # cover final edges with green\n",
    "        dot.edge(str(edge.initial), str(edge.final), label=str(edge.weight), color='green')\n",
    "        \n",
    "    printmd(f'## {title}')\n",
    "    printmd(\"> Green Edge Indicates, its included in MST.  Red ones are excluded from MST, they either case cycle or have high weight\")\n",
    "    display(dot)\n",
    "\n",
    "# Generate a undirected graph with 'N' nodes and 'M' edges - They're variable and can be updated here\n",
    "N = 6\n",
    "M = 14\n",
    "nodes,edges = generate_graph(N, M)"
   ]
  },
  {
   "cell_type": "code",
   "execution_count": 9,
   "metadata": {
    "slideshow": {
     "slide_type": "subslide"
    }
   },
   "outputs": [
    {
     "name": "stdout",
     "output_type": "stream",
     "text": [
      "{}\n",
      "{<__main__.Node object at 0x05EB9650>: 0, <__main__.Node object at 0x05EB98F0>: 0, <__main__.Node object at 0x05EB9590>: 0, <__main__.Node object at 0x05EB9DD0>: 0, <__main__.Node object at 0x05EB95F0>: 0, <__main__.Node object at 0x05EB9B10>: 0}\n"
     ]
    },
    {
     "data": {
      "text/markdown": [
       "## Initial Raw Graph"
      ],
      "text/plain": [
       "<IPython.core.display.Markdown object>"
      ]
     },
     "metadata": {},
     "output_type": "display_data"
    },
    {
     "data": {
      "image/svg+xml": [
       "<?xml version=\"1.0\" encoding=\"UTF-8\" standalone=\"no\"?>\r\n",
       "<!DOCTYPE svg PUBLIC \"-//W3C//DTD SVG 1.1//EN\"\r\n",
       " \"http://www.w3.org/Graphics/SVG/1.1/DTD/svg11.dtd\">\r\n",
       "<!-- Generated by graphviz version 2.38.0 (20140413.2041)\r\n",
       " -->\r\n",
       "<!-- Title: %3 Pages: 1 -->\r\n",
       "<svg width=\"342pt\" height=\"479pt\"\r\n",
       " viewBox=\"0.00 0.00 342.00 479.00\" xmlns=\"http://www.w3.org/2000/svg\" xmlns:xlink=\"http://www.w3.org/1999/xlink\">\r\n",
       "<g id=\"graph0\" class=\"graph\" transform=\"scale(1 1) rotate(0) translate(4 475)\">\r\n",
       "<title>%3</title>\r\n",
       "<polygon fill=\"white\" stroke=\"none\" points=\"-4,4 -4,-475 338,-475 338,4 -4,4\"/>\r\n",
       "<!-- Node #1 -->\r\n",
       "<g id=\"node1\" class=\"node\"><title>Node #1</title>\r\n",
       "<ellipse fill=\"none\" stroke=\"black\" cx=\"69\" cy=\"-453\" rx=\"42.4939\" ry=\"18\"/>\r\n",
       "<text text-anchor=\"middle\" x=\"69\" y=\"-449.3\" font-family=\"Times New Roman,serif\" font-size=\"14.00\">Node #1</text>\r\n",
       "</g>\r\n",
       "<!-- Node #3 -->\r\n",
       "<g id=\"node3\" class=\"node\"><title>Node #3</title>\r\n",
       "<ellipse fill=\"none\" stroke=\"black\" cx=\"194\" cy=\"-366\" rx=\"42.4939\" ry=\"18\"/>\r\n",
       "<text text-anchor=\"middle\" x=\"194\" y=\"-362.3\" font-family=\"Times New Roman,serif\" font-size=\"14.00\">Node #3</text>\r\n",
       "</g>\r\n",
       "<!-- Node #1&#45;&gt;Node #3 -->\r\n",
       "<g id=\"edge1\" class=\"edge\"><title>Node #1&#45;&gt;Node #3</title>\r\n",
       "<path fill=\"none\" stroke=\"black\" d=\"M90.4883,-437.388C110.701,-423.644 141.159,-402.932 163.809,-387.53\"/>\r\n",
       "<polygon fill=\"black\" stroke=\"black\" points=\"166.073,-390.223 172.374,-381.706 162.136,-384.435 166.073,-390.223\"/>\r\n",
       "<text text-anchor=\"middle\" x=\"145\" y=\"-405.8\" font-family=\"Times New Roman,serif\" font-size=\"14.00\">22</text>\r\n",
       "</g>\r\n",
       "<!-- Node #5 -->\r\n",
       "<g id=\"node5\" class=\"node\"><title>Node #5</title>\r\n",
       "<ellipse fill=\"none\" stroke=\"black\" cx=\"206\" cy=\"-18\" rx=\"42.4939\" ry=\"18\"/>\r\n",
       "<text text-anchor=\"middle\" x=\"206\" y=\"-14.3\" font-family=\"Times New Roman,serif\" font-size=\"14.00\">Node #5</text>\r\n",
       "</g>\r\n",
       "<!-- Node #1&#45;&gt;Node #5 -->\r\n",
       "<g id=\"edge3\" class=\"edge\"><title>Node #1&#45;&gt;Node #5</title>\r\n",
       "<path fill=\"none\" stroke=\"black\" d=\"M46.7882,-437.654C26.6173,-422.691 0,-397.221 0,-367 0,-367 0,-367 0,-104 0,-37.8029 92.0228,-22.1229 153.059,-19.0034\"/>\r\n",
       "<polygon fill=\"black\" stroke=\"black\" points=\"153.469,-22.4895 163.317,-18.5807 153.181,-15.4955 153.469,-22.4895\"/>\r\n",
       "<text text-anchor=\"middle\" x=\"7\" y=\"-231.8\" font-family=\"Times New Roman,serif\" font-size=\"14.00\">88</text>\r\n",
       "</g>\r\n",
       "<!-- Node #2 -->\r\n",
       "<g id=\"node2\" class=\"node\"><title>Node #2</title>\r\n",
       "<ellipse fill=\"none\" stroke=\"black\" cx=\"194\" cy=\"-279\" rx=\"42.4939\" ry=\"18\"/>\r\n",
       "<text text-anchor=\"middle\" x=\"194\" y=\"-275.3\" font-family=\"Times New Roman,serif\" font-size=\"14.00\">Node #2</text>\r\n",
       "</g>\r\n",
       "<!-- Node #2&#45;&gt;Node #1 -->\r\n",
       "<g id=\"edge8\" class=\"edge\"><title>Node #2&#45;&gt;Node #1</title>\r\n",
       "<path fill=\"none\" stroke=\"black\" d=\"M177.074,-295.502C163.217,-308.686 143.592,-328.527 129,-348 110.272,-372.993 92.9136,-404.355 81.7366,-426.07\"/>\r\n",
       "<polygon fill=\"black\" stroke=\"black\" points=\"78.597,-424.522 77.1963,-435.024 84.8403,-427.688 78.597,-424.522\"/>\r\n",
       "<text text-anchor=\"middle\" x=\"136\" y=\"-362.3\" font-family=\"Times New Roman,serif\" font-size=\"14.00\">23</text>\r\n",
       "</g>\r\n",
       "<!-- Node #4 -->\r\n",
       "<g id=\"node4\" class=\"node\"><title>Node #4</title>\r\n",
       "<ellipse fill=\"none\" stroke=\"black\" cx=\"204\" cy=\"-192\" rx=\"42.4939\" ry=\"18\"/>\r\n",
       "<text text-anchor=\"middle\" x=\"204\" y=\"-188.3\" font-family=\"Times New Roman,serif\" font-size=\"14.00\">Node #4</text>\r\n",
       "</g>\r\n",
       "<!-- Node #2&#45;&gt;Node #4 -->\r\n",
       "<g id=\"edge4\" class=\"edge\"><title>Node #2&#45;&gt;Node #4</title>\r\n",
       "<path fill=\"none\" stroke=\"black\" d=\"M196.024,-260.799C197.393,-249.163 199.23,-233.548 200.796,-220.237\"/>\r\n",
       "<polygon fill=\"black\" stroke=\"black\" points=\"204.287,-220.516 201.979,-210.175 197.335,-219.698 204.287,-220.516\"/>\r\n",
       "<text text-anchor=\"middle\" x=\"206\" y=\"-231.8\" font-family=\"Times New Roman,serif\" font-size=\"14.00\">82</text>\r\n",
       "</g>\r\n",
       "<!-- Node #3&#45;&gt;Node #2 -->\r\n",
       "<g id=\"edge9\" class=\"edge\"><title>Node #3&#45;&gt;Node #2</title>\r\n",
       "<path fill=\"none\" stroke=\"black\" d=\"M194,-347.799C194,-336.163 194,-320.548 194,-307.237\"/>\r\n",
       "<polygon fill=\"black\" stroke=\"black\" points=\"197.5,-307.175 194,-297.175 190.5,-307.175 197.5,-307.175\"/>\r\n",
       "<text text-anchor=\"middle\" x=\"201\" y=\"-318.8\" font-family=\"Times New Roman,serif\" font-size=\"14.00\">18</text>\r\n",
       "</g>\r\n",
       "<!-- Node #3&#45;&gt;Node #4 -->\r\n",
       "<g id=\"edge7\" class=\"edge\"><title>Node #3&#45;&gt;Node #4</title>\r\n",
       "<path fill=\"none\" stroke=\"black\" d=\"M210.633,-349.183C222.771,-336.419 238.233,-317.3 245,-297 254.183,-269.451 238.626,-238.578 224.111,-217.678\"/>\r\n",
       "<polygon fill=\"black\" stroke=\"black\" points=\"226.76,-215.371 218.03,-209.37 221.112,-219.506 226.76,-215.371\"/>\r\n",
       "<text text-anchor=\"middle\" x=\"254\" y=\"-275.3\" font-family=\"Times New Roman,serif\" font-size=\"14.00\">55</text>\r\n",
       "</g>\r\n",
       "<!-- Node #3&#45;&gt;Node #5 -->\r\n",
       "<g id=\"edge6\" class=\"edge\"><title>Node #3&#45;&gt;Node #5</title>\r\n",
       "<path fill=\"none\" stroke=\"black\" d=\"M230.783,-356.822C267.974,-346.126 320,-323.407 320,-280 320,-280 320,-280 320,-104 320,-67.5318 282.043,-44.8483 249.933,-32.1836\"/>\r\n",
       "<polygon fill=\"black\" stroke=\"black\" points=\"250.797,-28.771 240.204,-28.5707 248.36,-35.3331 250.797,-28.771\"/>\r\n",
       "<text text-anchor=\"middle\" x=\"327\" y=\"-188.3\" font-family=\"Times New Roman,serif\" font-size=\"14.00\">57</text>\r\n",
       "</g>\r\n",
       "<!-- Node #6 -->\r\n",
       "<g id=\"node6\" class=\"node\"><title>Node #6</title>\r\n",
       "<ellipse fill=\"none\" stroke=\"black\" cx=\"128\" cy=\"-105\" rx=\"42.4939\" ry=\"18\"/>\r\n",
       "<text text-anchor=\"middle\" x=\"128\" y=\"-101.3\" font-family=\"Times New Roman,serif\" font-size=\"14.00\">Node #6</text>\r\n",
       "</g>\r\n",
       "<!-- Node #3&#45;&gt;Node #6 -->\r\n",
       "<g id=\"edge11\" class=\"edge\"><title>Node #3&#45;&gt;Node #6</title>\r\n",
       "<path fill=\"none\" stroke=\"black\" d=\"M178.925,-348.922C167.472,-335.87 152.174,-316.494 143,-297 116.021,-239.673 123.758,-219.333 122,-156 121.815,-149.336 121.435,-147.643 122,-141 122.22,-138.42 122.529,-135.745 122.892,-133.074\"/>\r\n",
       "<polygon fill=\"black\" stroke=\"black\" points=\"126.377,-133.44 124.486,-123.015 119.464,-132.344 126.377,-133.44\"/>\r\n",
       "<text text-anchor=\"middle\" x=\"131\" y=\"-231.8\" font-family=\"Times New Roman,serif\" font-size=\"14.00\">59</text>\r\n",
       "</g>\r\n",
       "<!-- Node #4&#45;&gt;Node #5 -->\r\n",
       "<g id=\"edge10\" class=\"edge\"><title>Node #4&#45;&gt;Node #5</title>\r\n",
       "<path fill=\"none\" stroke=\"black\" d=\"M204.199,-173.879C204.546,-144.001 205.266,-82.1129 205.683,-46.2736\"/>\r\n",
       "<polygon fill=\"black\" stroke=\"black\" points=\"209.185,-46.0917 205.802,-36.0516 202.186,-46.0102 209.185,-46.0917\"/>\r\n",
       "<text text-anchor=\"middle\" x=\"212\" y=\"-101.3\" font-family=\"Times New Roman,serif\" font-size=\"14.00\">66</text>\r\n",
       "</g>\r\n",
       "<!-- Node #4&#45;&gt;Node #6 -->\r\n",
       "<g id=\"edge5\" class=\"edge\"><title>Node #4&#45;&gt;Node #6</title>\r\n",
       "<path fill=\"none\" stroke=\"black\" d=\"M189.705,-175.012C178.313,-162.271 162.189,-144.237 149.28,-129.8\"/>\r\n",
       "<polygon fill=\"black\" stroke=\"black\" points=\"151.764,-127.327 142.489,-122.205 146.546,-131.993 151.764,-127.327\"/>\r\n",
       "<text text-anchor=\"middle\" x=\"177\" y=\"-144.8\" font-family=\"Times New Roman,serif\" font-size=\"14.00\">66</text>\r\n",
       "</g>\r\n",
       "<!-- Node #5&#45;&gt;Node #2 -->\r\n",
       "<g id=\"edge2\" class=\"edge\"><title>Node #5&#45;&gt;Node #2</title>\r\n",
       "<path fill=\"none\" stroke=\"black\" d=\"M216.926,-35.4879C237.732,-69.0671 278.927,-147.496 255,-210 248.192,-227.785 234.35,-243.847 221.57,-255.889\"/>\r\n",
       "<polygon fill=\"black\" stroke=\"black\" points=\"218.924,-253.561 213.823,-262.847 223.601,-258.769 218.924,-253.561\"/>\r\n",
       "<text text-anchor=\"middle\" x=\"268\" y=\"-144.8\" font-family=\"Times New Roman,serif\" font-size=\"14.00\">78</text>\r\n",
       "</g>\r\n",
       "<!-- Node #6&#45;&gt;Node #1 -->\r\n",
       "<g id=\"edge14\" class=\"edge\"><title>Node #6&#45;&gt;Node #1</title>\r\n",
       "<path fill=\"none\" stroke=\"black\" d=\"M101.603,-119.32C77.6321,-133.504 46,-158.398 46,-191 46,-367 46,-367 46,-367 46,-387.13 52.0846,-409.039 57.9947,-425.572\"/>\r\n",
       "<polygon fill=\"black\" stroke=\"black\" points=\"54.7885,-426.989 61.5961,-435.107 61.337,-424.515 54.7885,-426.989\"/>\r\n",
       "<text text-anchor=\"middle\" x=\"53\" y=\"-275.3\" font-family=\"Times New Roman,serif\" font-size=\"14.00\">25</text>\r\n",
       "</g>\r\n",
       "<!-- Node #6&#45;&gt;Node #2 -->\r\n",
       "<g id=\"edge13\" class=\"edge\"><title>Node #6&#45;&gt;Node #2</title>\r\n",
       "<path fill=\"none\" stroke=\"black\" d=\"M126.903,-123.296C126.201,-144.549 127.118,-181.317 139,-210 145.96,-226.8 158.445,-242.764 169.763,-254.997\"/>\r\n",
       "<polygon fill=\"black\" stroke=\"black\" points=\"167.503,-257.696 176.962,-262.469 172.544,-252.839 167.503,-257.696\"/>\r\n",
       "<text text-anchor=\"middle\" x=\"146\" y=\"-188.3\" font-family=\"Times New Roman,serif\" font-size=\"14.00\">42</text>\r\n",
       "</g>\r\n",
       "<!-- Node #6&#45;&gt;Node #5 -->\r\n",
       "<g id=\"edge12\" class=\"edge\"><title>Node #6&#45;&gt;Node #5</title>\r\n",
       "<path fill=\"none\" stroke=\"black\" d=\"M142.671,-88.0122C154.437,-75.19 171.123,-57.0073 184.413,-42.5242\"/>\r\n",
       "<polygon fill=\"black\" stroke=\"black\" points=\"187.212,-44.6505 191.395,-34.9162 182.055,-39.9177 187.212,-44.6505\"/>\r\n",
       "<text text-anchor=\"middle\" x=\"178\" y=\"-57.8\" font-family=\"Times New Roman,serif\" font-size=\"14.00\">93</text>\r\n",
       "</g>\r\n",
       "</g>\r\n",
       "</svg>\r\n"
      ],
      "text/plain": [
       "<graphviz.dot.Digraph at 0x5fc17f0>"
      ]
     },
     "metadata": {},
     "output_type": "display_data"
    }
   ],
   "source": [
    "kruskal = Kruskal(nodes,edges)\n",
    "out, anim = kruskal.run()\n",
    "\n",
    "display_graph(\"Initial Raw Graph\",nodes, edges)"
   ]
  },
  {
   "cell_type": "code",
   "execution_count": 10,
   "metadata": {
    "slideshow": {
     "slide_type": "subslide"
    }
   },
   "outputs": [
    {
     "data": {
      "text/markdown": [
       "## Final Graph Displaying Minimum Spanning Tree"
      ],
      "text/plain": [
       "<IPython.core.display.Markdown object>"
      ]
     },
     "metadata": {},
     "output_type": "display_data"
    },
    {
     "data": {
      "image/svg+xml": [
       "<?xml version=\"1.0\" encoding=\"UTF-8\" standalone=\"no\"?>\r\n",
       "<!DOCTYPE svg PUBLIC \"-//W3C//DTD SVG 1.1//EN\"\r\n",
       " \"http://www.w3.org/Graphics/SVG/1.1/DTD/svg11.dtd\">\r\n",
       "<!-- Generated by graphviz version 2.38.0 (20140413.2041)\r\n",
       " -->\r\n",
       "<!-- Title: %3 Pages: 1 -->\r\n",
       "<svg width=\"296pt\" height=\"305pt\"\r\n",
       " viewBox=\"0.00 0.00 296.49 305.00\" xmlns=\"http://www.w3.org/2000/svg\" xmlns:xlink=\"http://www.w3.org/1999/xlink\">\r\n",
       "<g id=\"graph0\" class=\"graph\" transform=\"scale(1 1) rotate(0) translate(4 301)\">\r\n",
       "<title>%3</title>\r\n",
       "<polygon fill=\"white\" stroke=\"none\" points=\"-4,4 -4,-301 292.493,-301 292.493,4 -4,4\"/>\r\n",
       "<!-- Node #1 -->\r\n",
       "<g id=\"node1\" class=\"node\"><title>Node #1</title>\r\n",
       "<ellipse fill=\"none\" stroke=\"black\" cx=\"144.246\" cy=\"-192\" rx=\"42.4939\" ry=\"18\"/>\r\n",
       "<text text-anchor=\"middle\" x=\"144.246\" y=\"-188.3\" font-family=\"Times New Roman,serif\" font-size=\"14.00\">Node #1</text>\r\n",
       "</g>\r\n",
       "<!-- Node #3 -->\r\n",
       "<g id=\"node3\" class=\"node\"><title>Node #3</title>\r\n",
       "<ellipse fill=\"none\" stroke=\"black\" cx=\"144.246\" cy=\"-105\" rx=\"42.4939\" ry=\"18\"/>\r\n",
       "<text text-anchor=\"middle\" x=\"144.246\" y=\"-101.3\" font-family=\"Times New Roman,serif\" font-size=\"14.00\">Node #3</text>\r\n",
       "</g>\r\n",
       "<!-- Node #1&#45;&gt;Node #3 -->\r\n",
       "<g id=\"edge2\" class=\"edge\"><title>Node #1&#45;&gt;Node #3</title>\r\n",
       "<path fill=\"none\" stroke=\"black\" d=\"M144.246,-173.799C144.246,-162.163 144.246,-146.548 144.246,-133.237\"/>\r\n",
       "<polygon fill=\"black\" stroke=\"black\" points=\"147.746,-133.175 144.246,-123.175 140.746,-133.175 147.746,-133.175\"/>\r\n",
       "<text text-anchor=\"middle\" x=\"151.246\" y=\"-144.8\" font-family=\"Times New Roman,serif\" font-size=\"14.00\">22</text>\r\n",
       "</g>\r\n",
       "<!-- Node #2 -->\r\n",
       "<g id=\"node2\" class=\"node\"><title>Node #2</title>\r\n",
       "<ellipse fill=\"none\" stroke=\"black\" cx=\"42.2463\" cy=\"-18\" rx=\"42.4939\" ry=\"18\"/>\r\n",
       "<text text-anchor=\"middle\" x=\"42.2463\" y=\"-14.3\" font-family=\"Times New Roman,serif\" font-size=\"14.00\">Node #2</text>\r\n",
       "</g>\r\n",
       "<!-- Node #3&#45;&gt;Node #2 -->\r\n",
       "<g id=\"edge1\" class=\"edge\"><title>Node #3&#45;&gt;Node #2</title>\r\n",
       "<path fill=\"none\" stroke=\"black\" d=\"M125.538,-88.4097C109.578,-75.1099 86.4511,-55.8374 68.6143,-40.9734\"/>\r\n",
       "<polygon fill=\"black\" stroke=\"black\" points=\"70.7589,-38.2046 60.836,-34.4915 66.2776,-43.5821 70.7589,-38.2046\"/>\r\n",
       "<text text-anchor=\"middle\" x=\"107.246\" y=\"-57.8\" font-family=\"Times New Roman,serif\" font-size=\"14.00\">18</text>\r\n",
       "</g>\r\n",
       "<!-- Node #4 -->\r\n",
       "<g id=\"node4\" class=\"node\"><title>Node #4</title>\r\n",
       "<ellipse fill=\"none\" stroke=\"black\" cx=\"144.246\" cy=\"-18\" rx=\"42.4939\" ry=\"18\"/>\r\n",
       "<text text-anchor=\"middle\" x=\"144.246\" y=\"-14.3\" font-family=\"Times New Roman,serif\" font-size=\"14.00\">Node #4</text>\r\n",
       "</g>\r\n",
       "<!-- Node #3&#45;&gt;Node #4 -->\r\n",
       "<g id=\"edge4\" class=\"edge\"><title>Node #3&#45;&gt;Node #4</title>\r\n",
       "<path fill=\"none\" stroke=\"black\" d=\"M144.246,-86.799C144.246,-75.1626 144.246,-59.5479 144.246,-46.2368\"/>\r\n",
       "<polygon fill=\"black\" stroke=\"black\" points=\"147.746,-46.1754 144.246,-36.1754 140.746,-46.1755 147.746,-46.1754\"/>\r\n",
       "<text text-anchor=\"middle\" x=\"151.246\" y=\"-57.8\" font-family=\"Times New Roman,serif\" font-size=\"14.00\">55</text>\r\n",
       "</g>\r\n",
       "<!-- Node #5 -->\r\n",
       "<g id=\"node5\" class=\"node\"><title>Node #5</title>\r\n",
       "<ellipse fill=\"none\" stroke=\"black\" cx=\"246.246\" cy=\"-18\" rx=\"42.4939\" ry=\"18\"/>\r\n",
       "<text text-anchor=\"middle\" x=\"246.246\" y=\"-14.3\" font-family=\"Times New Roman,serif\" font-size=\"14.00\">Node #5</text>\r\n",
       "</g>\r\n",
       "<!-- Node #3&#45;&gt;Node #5 -->\r\n",
       "<g id=\"edge5\" class=\"edge\"><title>Node #3&#45;&gt;Node #5</title>\r\n",
       "<path fill=\"none\" stroke=\"black\" d=\"M162.955,-88.4097C178.914,-75.1099 202.041,-55.8374 219.878,-40.9734\"/>\r\n",
       "<polygon fill=\"black\" stroke=\"black\" points=\"222.215,-43.5821 227.656,-34.4915 217.734,-38.2046 222.215,-43.5821\"/>\r\n",
       "<text text-anchor=\"middle\" x=\"208.246\" y=\"-57.8\" font-family=\"Times New Roman,serif\" font-size=\"14.00\">57</text>\r\n",
       "</g>\r\n",
       "<!-- Node #6 -->\r\n",
       "<g id=\"node6\" class=\"node\"><title>Node #6</title>\r\n",
       "<ellipse fill=\"none\" stroke=\"black\" cx=\"144.246\" cy=\"-279\" rx=\"42.4939\" ry=\"18\"/>\r\n",
       "<text text-anchor=\"middle\" x=\"144.246\" y=\"-275.3\" font-family=\"Times New Roman,serif\" font-size=\"14.00\">Node #6</text>\r\n",
       "</g>\r\n",
       "<!-- Node #6&#45;&gt;Node #1 -->\r\n",
       "<g id=\"edge3\" class=\"edge\"><title>Node #6&#45;&gt;Node #1</title>\r\n",
       "<path fill=\"none\" stroke=\"black\" d=\"M144.246,-260.799C144.246,-249.163 144.246,-233.548 144.246,-220.237\"/>\r\n",
       "<polygon fill=\"black\" stroke=\"black\" points=\"147.746,-220.175 144.246,-210.175 140.746,-220.175 147.746,-220.175\"/>\r\n",
       "<text text-anchor=\"middle\" x=\"151.246\" y=\"-231.8\" font-family=\"Times New Roman,serif\" font-size=\"14.00\">25</text>\r\n",
       "</g>\r\n",
       "</g>\r\n",
       "</svg>\r\n"
      ],
      "text/plain": [
       "<graphviz.dot.Digraph at 0x5fc1570>"
      ]
     },
     "metadata": {},
     "output_type": "display_data"
    }
   ],
   "source": [
    "display_graph(\"Final Graph Displaying Minimum Spanning Tree\", nodes, out)"
   ]
  },
  {
   "cell_type": "code",
   "execution_count": 11,
   "metadata": {
    "slideshow": {
     "slide_type": "subslide"
    }
   },
   "outputs": [
    {
     "data": {
      "text/markdown": [
       "## Comparing Initial Graph with Final Graph(MST)"
      ],
      "text/plain": [
       "<IPython.core.display.Markdown object>"
      ]
     },
     "metadata": {},
     "output_type": "display_data"
    },
    {
     "data": {
      "text/markdown": [
       "> Green Edge Indicates, its included in MST.  Red ones are excluded from MST, they either case cycle or have high weight"
      ],
      "text/plain": [
       "<IPython.core.display.Markdown object>"
      ]
     },
     "metadata": {},
     "output_type": "display_data"
    },
    {
     "data": {
      "image/svg+xml": [
       "<?xml version=\"1.0\" encoding=\"UTF-8\" standalone=\"no\"?>\r\n",
       "<!DOCTYPE svg PUBLIC \"-//W3C//DTD SVG 1.1//EN\"\r\n",
       " \"http://www.w3.org/Graphics/SVG/1.1/DTD/svg11.dtd\">\r\n",
       "<!-- Generated by graphviz version 2.38.0 (20140413.2041)\r\n",
       " -->\r\n",
       "<!-- Title: %3 Pages: 1 -->\r\n",
       "<svg width=\"342pt\" height=\"479pt\"\r\n",
       " viewBox=\"0.00 0.00 342.00 479.00\" xmlns=\"http://www.w3.org/2000/svg\" xmlns:xlink=\"http://www.w3.org/1999/xlink\">\r\n",
       "<g id=\"graph0\" class=\"graph\" transform=\"scale(1 1) rotate(0) translate(4 475)\">\r\n",
       "<title>%3</title>\r\n",
       "<polygon fill=\"white\" stroke=\"none\" points=\"-4,4 -4,-475 338,-475 338,4 -4,4\"/>\r\n",
       "<!-- Node #1 -->\r\n",
       "<g id=\"node1\" class=\"node\"><title>Node #1</title>\r\n",
       "<ellipse fill=\"none\" stroke=\"black\" cx=\"69\" cy=\"-453\" rx=\"42.4939\" ry=\"18\"/>\r\n",
       "<text text-anchor=\"middle\" x=\"69\" y=\"-449.3\" font-family=\"Times New Roman,serif\" font-size=\"14.00\">Node #1</text>\r\n",
       "</g>\r\n",
       "<!-- Node #3 -->\r\n",
       "<g id=\"node3\" class=\"node\"><title>Node #3</title>\r\n",
       "<ellipse fill=\"none\" stroke=\"black\" cx=\"194\" cy=\"-366\" rx=\"42.4939\" ry=\"18\"/>\r\n",
       "<text text-anchor=\"middle\" x=\"194\" y=\"-362.3\" font-family=\"Times New Roman,serif\" font-size=\"14.00\">Node #3</text>\r\n",
       "</g>\r\n",
       "<!-- Node #1&#45;&gt;Node #3 -->\r\n",
       "<g id=\"edge1\" class=\"edge\"><title>Node #1&#45;&gt;Node #3</title>\r\n",
       "<path fill=\"none\" stroke=\"green\" d=\"M90.4883,-437.388C110.701,-423.644 141.159,-402.932 163.809,-387.53\"/>\r\n",
       "<polygon fill=\"green\" stroke=\"green\" points=\"166.073,-390.223 172.374,-381.706 162.136,-384.435 166.073,-390.223\"/>\r\n",
       "<text text-anchor=\"middle\" x=\"145\" y=\"-405.8\" font-family=\"Times New Roman,serif\" font-size=\"14.00\">22</text>\r\n",
       "</g>\r\n",
       "<!-- Node #5 -->\r\n",
       "<g id=\"node5\" class=\"node\"><title>Node #5</title>\r\n",
       "<ellipse fill=\"none\" stroke=\"black\" cx=\"206\" cy=\"-18\" rx=\"42.4939\" ry=\"18\"/>\r\n",
       "<text text-anchor=\"middle\" x=\"206\" y=\"-14.3\" font-family=\"Times New Roman,serif\" font-size=\"14.00\">Node #5</text>\r\n",
       "</g>\r\n",
       "<!-- Node #1&#45;&gt;Node #5 -->\r\n",
       "<g id=\"edge3\" class=\"edge\"><title>Node #1&#45;&gt;Node #5</title>\r\n",
       "<path fill=\"none\" stroke=\"red\" d=\"M46.7882,-437.654C26.6173,-422.691 0,-397.221 0,-367 0,-367 0,-367 0,-104 0,-37.8029 92.0228,-22.1229 153.059,-19.0034\"/>\r\n",
       "<polygon fill=\"red\" stroke=\"red\" points=\"153.469,-22.4895 163.317,-18.5807 153.181,-15.4955 153.469,-22.4895\"/>\r\n",
       "<text text-anchor=\"middle\" x=\"7\" y=\"-231.8\" font-family=\"Times New Roman,serif\" font-size=\"14.00\">88</text>\r\n",
       "</g>\r\n",
       "<!-- Node #2 -->\r\n",
       "<g id=\"node2\" class=\"node\"><title>Node #2</title>\r\n",
       "<ellipse fill=\"none\" stroke=\"black\" cx=\"194\" cy=\"-279\" rx=\"42.4939\" ry=\"18\"/>\r\n",
       "<text text-anchor=\"middle\" x=\"194\" y=\"-275.3\" font-family=\"Times New Roman,serif\" font-size=\"14.00\">Node #2</text>\r\n",
       "</g>\r\n",
       "<!-- Node #2&#45;&gt;Node #1 -->\r\n",
       "<g id=\"edge8\" class=\"edge\"><title>Node #2&#45;&gt;Node #1</title>\r\n",
       "<path fill=\"none\" stroke=\"red\" d=\"M177.074,-295.502C163.217,-308.686 143.592,-328.527 129,-348 110.272,-372.993 92.9136,-404.355 81.7366,-426.07\"/>\r\n",
       "<polygon fill=\"red\" stroke=\"red\" points=\"78.597,-424.522 77.1963,-435.024 84.8403,-427.688 78.597,-424.522\"/>\r\n",
       "<text text-anchor=\"middle\" x=\"136\" y=\"-362.3\" font-family=\"Times New Roman,serif\" font-size=\"14.00\">23</text>\r\n",
       "</g>\r\n",
       "<!-- Node #4 -->\r\n",
       "<g id=\"node4\" class=\"node\"><title>Node #4</title>\r\n",
       "<ellipse fill=\"none\" stroke=\"black\" cx=\"204\" cy=\"-192\" rx=\"42.4939\" ry=\"18\"/>\r\n",
       "<text text-anchor=\"middle\" x=\"204\" y=\"-188.3\" font-family=\"Times New Roman,serif\" font-size=\"14.00\">Node #4</text>\r\n",
       "</g>\r\n",
       "<!-- Node #2&#45;&gt;Node #4 -->\r\n",
       "<g id=\"edge4\" class=\"edge\"><title>Node #2&#45;&gt;Node #4</title>\r\n",
       "<path fill=\"none\" stroke=\"red\" d=\"M196.024,-260.799C197.393,-249.163 199.23,-233.548 200.796,-220.237\"/>\r\n",
       "<polygon fill=\"red\" stroke=\"red\" points=\"204.287,-220.516 201.979,-210.175 197.335,-219.698 204.287,-220.516\"/>\r\n",
       "<text text-anchor=\"middle\" x=\"206\" y=\"-231.8\" font-family=\"Times New Roman,serif\" font-size=\"14.00\">82</text>\r\n",
       "</g>\r\n",
       "<!-- Node #3&#45;&gt;Node #2 -->\r\n",
       "<g id=\"edge9\" class=\"edge\"><title>Node #3&#45;&gt;Node #2</title>\r\n",
       "<path fill=\"none\" stroke=\"green\" d=\"M194,-347.799C194,-336.163 194,-320.548 194,-307.237\"/>\r\n",
       "<polygon fill=\"green\" stroke=\"green\" points=\"197.5,-307.175 194,-297.175 190.5,-307.175 197.5,-307.175\"/>\r\n",
       "<text text-anchor=\"middle\" x=\"201\" y=\"-318.8\" font-family=\"Times New Roman,serif\" font-size=\"14.00\">18</text>\r\n",
       "</g>\r\n",
       "<!-- Node #3&#45;&gt;Node #4 -->\r\n",
       "<g id=\"edge7\" class=\"edge\"><title>Node #3&#45;&gt;Node #4</title>\r\n",
       "<path fill=\"none\" stroke=\"green\" d=\"M210.633,-349.183C222.771,-336.419 238.233,-317.3 245,-297 254.183,-269.451 238.626,-238.578 224.111,-217.678\"/>\r\n",
       "<polygon fill=\"green\" stroke=\"green\" points=\"226.76,-215.371 218.03,-209.37 221.112,-219.506 226.76,-215.371\"/>\r\n",
       "<text text-anchor=\"middle\" x=\"254\" y=\"-275.3\" font-family=\"Times New Roman,serif\" font-size=\"14.00\">55</text>\r\n",
       "</g>\r\n",
       "<!-- Node #3&#45;&gt;Node #5 -->\r\n",
       "<g id=\"edge6\" class=\"edge\"><title>Node #3&#45;&gt;Node #5</title>\r\n",
       "<path fill=\"none\" stroke=\"green\" d=\"M230.783,-356.822C267.974,-346.126 320,-323.407 320,-280 320,-280 320,-280 320,-104 320,-67.5318 282.043,-44.8483 249.933,-32.1836\"/>\r\n",
       "<polygon fill=\"green\" stroke=\"green\" points=\"250.797,-28.771 240.204,-28.5707 248.36,-35.3331 250.797,-28.771\"/>\r\n",
       "<text text-anchor=\"middle\" x=\"327\" y=\"-188.3\" font-family=\"Times New Roman,serif\" font-size=\"14.00\">57</text>\r\n",
       "</g>\r\n",
       "<!-- Node #6 -->\r\n",
       "<g id=\"node6\" class=\"node\"><title>Node #6</title>\r\n",
       "<ellipse fill=\"none\" stroke=\"black\" cx=\"128\" cy=\"-105\" rx=\"42.4939\" ry=\"18\"/>\r\n",
       "<text text-anchor=\"middle\" x=\"128\" y=\"-101.3\" font-family=\"Times New Roman,serif\" font-size=\"14.00\">Node #6</text>\r\n",
       "</g>\r\n",
       "<!-- Node #3&#45;&gt;Node #6 -->\r\n",
       "<g id=\"edge11\" class=\"edge\"><title>Node #3&#45;&gt;Node #6</title>\r\n",
       "<path fill=\"none\" stroke=\"red\" d=\"M178.925,-348.922C167.472,-335.87 152.174,-316.494 143,-297 116.021,-239.673 123.758,-219.333 122,-156 121.815,-149.336 121.435,-147.643 122,-141 122.22,-138.42 122.529,-135.745 122.892,-133.074\"/>\r\n",
       "<polygon fill=\"red\" stroke=\"red\" points=\"126.377,-133.44 124.486,-123.015 119.464,-132.344 126.377,-133.44\"/>\r\n",
       "<text text-anchor=\"middle\" x=\"131\" y=\"-231.8\" font-family=\"Times New Roman,serif\" font-size=\"14.00\">59</text>\r\n",
       "</g>\r\n",
       "<!-- Node #4&#45;&gt;Node #5 -->\r\n",
       "<g id=\"edge10\" class=\"edge\"><title>Node #4&#45;&gt;Node #5</title>\r\n",
       "<path fill=\"none\" stroke=\"red\" d=\"M204.199,-173.879C204.546,-144.001 205.266,-82.1129 205.683,-46.2736\"/>\r\n",
       "<polygon fill=\"red\" stroke=\"red\" points=\"209.185,-46.0917 205.802,-36.0516 202.186,-46.0102 209.185,-46.0917\"/>\r\n",
       "<text text-anchor=\"middle\" x=\"212\" y=\"-101.3\" font-family=\"Times New Roman,serif\" font-size=\"14.00\">66</text>\r\n",
       "</g>\r\n",
       "<!-- Node #4&#45;&gt;Node #6 -->\r\n",
       "<g id=\"edge5\" class=\"edge\"><title>Node #4&#45;&gt;Node #6</title>\r\n",
       "<path fill=\"none\" stroke=\"red\" d=\"M189.705,-175.012C178.313,-162.271 162.189,-144.237 149.28,-129.8\"/>\r\n",
       "<polygon fill=\"red\" stroke=\"red\" points=\"151.764,-127.327 142.489,-122.205 146.546,-131.993 151.764,-127.327\"/>\r\n",
       "<text text-anchor=\"middle\" x=\"177\" y=\"-144.8\" font-family=\"Times New Roman,serif\" font-size=\"14.00\">66</text>\r\n",
       "</g>\r\n",
       "<!-- Node #5&#45;&gt;Node #2 -->\r\n",
       "<g id=\"edge2\" class=\"edge\"><title>Node #5&#45;&gt;Node #2</title>\r\n",
       "<path fill=\"none\" stroke=\"red\" d=\"M216.926,-35.4879C237.732,-69.0671 278.927,-147.496 255,-210 248.192,-227.785 234.35,-243.847 221.57,-255.889\"/>\r\n",
       "<polygon fill=\"red\" stroke=\"red\" points=\"218.924,-253.561 213.823,-262.847 223.601,-258.769 218.924,-253.561\"/>\r\n",
       "<text text-anchor=\"middle\" x=\"268\" y=\"-144.8\" font-family=\"Times New Roman,serif\" font-size=\"14.00\">78</text>\r\n",
       "</g>\r\n",
       "<!-- Node #6&#45;&gt;Node #1 -->\r\n",
       "<g id=\"edge14\" class=\"edge\"><title>Node #6&#45;&gt;Node #1</title>\r\n",
       "<path fill=\"none\" stroke=\"green\" d=\"M101.603,-119.32C77.6321,-133.504 46,-158.398 46,-191 46,-367 46,-367 46,-367 46,-387.13 52.0846,-409.039 57.9947,-425.572\"/>\r\n",
       "<polygon fill=\"green\" stroke=\"green\" points=\"54.7885,-426.989 61.5961,-435.107 61.337,-424.515 54.7885,-426.989\"/>\r\n",
       "<text text-anchor=\"middle\" x=\"53\" y=\"-275.3\" font-family=\"Times New Roman,serif\" font-size=\"14.00\">25</text>\r\n",
       "</g>\r\n",
       "<!-- Node #6&#45;&gt;Node #2 -->\r\n",
       "<g id=\"edge13\" class=\"edge\"><title>Node #6&#45;&gt;Node #2</title>\r\n",
       "<path fill=\"none\" stroke=\"red\" d=\"M126.903,-123.296C126.201,-144.549 127.118,-181.317 139,-210 145.96,-226.8 158.445,-242.764 169.763,-254.997\"/>\r\n",
       "<polygon fill=\"red\" stroke=\"red\" points=\"167.503,-257.696 176.962,-262.469 172.544,-252.839 167.503,-257.696\"/>\r\n",
       "<text text-anchor=\"middle\" x=\"146\" y=\"-188.3\" font-family=\"Times New Roman,serif\" font-size=\"14.00\">42</text>\r\n",
       "</g>\r\n",
       "<!-- Node #6&#45;&gt;Node #5 -->\r\n",
       "<g id=\"edge12\" class=\"edge\"><title>Node #6&#45;&gt;Node #5</title>\r\n",
       "<path fill=\"none\" stroke=\"red\" d=\"M142.671,-88.0122C154.437,-75.19 171.123,-57.0073 184.413,-42.5242\"/>\r\n",
       "<polygon fill=\"red\" stroke=\"red\" points=\"187.212,-44.6505 191.395,-34.9162 182.055,-39.9177 187.212,-44.6505\"/>\r\n",
       "<text text-anchor=\"middle\" x=\"178\" y=\"-57.8\" font-family=\"Times New Roman,serif\" font-size=\"14.00\">93</text>\r\n",
       "</g>\r\n",
       "</g>\r\n",
       "</svg>\r\n"
      ],
      "text/plain": [
       "<graphviz.dot.Digraph at 0x5fc1310>"
      ]
     },
     "metadata": {},
     "output_type": "display_data"
    }
   ],
   "source": [
    "display_graph_edges_comparision(\"Comparing Initial Graph with Final Graph(MST)\", nodes, edges, out)"
   ]
  },
  {
   "cell_type": "code",
   "execution_count": 12,
   "metadata": {
    "scrolled": false,
    "slideshow": {
     "slide_type": "subslide"
    }
   },
   "outputs": [
    {
     "data": {
      "text/markdown": [
       "## Interactive Run through Kruskal's Algorithm"
      ],
      "text/plain": [
       "<IPython.core.display.Markdown object>"
      ]
     },
     "metadata": {},
     "output_type": "display_data"
    },
    {
     "data": {
      "text/markdown": [
       "> It takes time proportional to complexity of graph. Be Pateint"
      ],
      "text/plain": [
       "<IPython.core.display.Markdown object>"
      ]
     },
     "metadata": {},
     "output_type": "display_data"
    },
    {
     "data": {
      "text/markdown": [
       "> Black is the original Node. Green color would indicate the edge doesn't have cycle and we include it, red otherwise."
      ],
      "text/plain": [
       "<IPython.core.display.Markdown object>"
      ]
     },
     "metadata": {},
     "output_type": "display_data"
    },
    {
     "data": {
      "application/vnd.jupyter.widget-view+json": {
       "model_id": "29e8a01e121d4d20a58193dfdb64888d",
       "version_major": 2,
       "version_minor": 0
      },
      "text/plain": [
       "interactive(children=(IntSlider(value=0, description='n', max=37), Output()), _dom_classes=('widget-interact',…"
      ]
     },
     "metadata": {},
     "output_type": "display_data"
    }
   ],
   "source": [
    "printmd(\"## Interactive Run through Kruskal's Algorithm\")\n",
    "printmd(\"> It takes time proportional to complexity of graph. Be Pateint\")\n",
    "printmd(\"> Black is the original Node. Green color would indicate the edge doesn't have cycle and we include it, red otherwise.\")\n",
    "interactive(anim, 500 )"
   ]
  },
  {
   "cell_type": "markdown",
   "metadata": {
    "slideshow": {
     "slide_type": "slide"
    }
   },
   "source": [
    "\n",
    "\n",
    "\n",
    "## Complexity Analysis <a class=\"anchor\" id=\"analysis\"></a>\n",
    "\n",
    "The complexity of Kruskal's algorithm depends directly on the **Data Structure** that is being used. \n",
    "\n",
    "### Naive Disjoint Set would yield:\n",
    "> i.e. Not using Path Compression or Union by rank\n",
    "\n",
    "+ MakeSet Operation Cost : $O(N)$\n",
    "+ Find Operation Cost: $O(N)$\n",
    "+ Union Operation Cost: \n",
    "    + Worst Case $O(N^2)$\n",
    "    + Amortized $O(N)$\n",
    "\n",
    "#### Time Complexity\n",
    "| Operations | Cost Of Operation Details|\n",
    "| ---- | ---- |\n",
    "|Sorting E Edges| $E*log(E)$ |\n",
    "|$V$ find operations For $E$ Edges|$E * V$|\n",
    "|$E - 1$ Union Operations For $E$|$E * E$|\n",
    "\n",
    "\n",
    "- Net = $E * (V + E)$\n",
    "- Total Net = $E*log(E) + E*(V+E)$\n",
    "\n",
    "**This Would lead the Time Complexity of Kruskals Algorithm to $O(E*log(E) + E*(V + E))$**\n",
    "\n",
    "Since, $E< V^2$ \n",
    "\n",
    "Complexity ~ $O(E*log(V) + E*(V + E))$\n",
    "\n",
    "---\n",
    "### Improved Disjoint Set\n",
    "---\n",
    "#### Disjoint Set with Path Compression:\n",
    "+ Find and Union Operation Cost: $\\displaystyle \\Theta (n+f\\cdot (1+\\log _{2+f/n}n))$\n",
    "\n",
    "\n",
    "#### Disjoint Set with Rank By Union\n",
    "+ Find Operation:  ${\\displaystyle \\Theta (m\\lg n)}$\n",
    "\n",
    "#### Disjoint Set with Path Compression & Rank By Union\n",
    "+ Union and Find Operation Cost:  ${\\displaystyle \\Theta (\\alpha (n))}$\n",
    "\n",
    "> $\\alpha$ is the inverse Ackermann function. Its safe to assume that all operations are performed in Constant Time. As The function grows very slow. \n",
    ">log* N = “log star of N” = smallest k such that log(k) n <= 1 or\n",
    ">\n",
    "> eg. Number of iterations it takes so that the log of base-2 of N <= 1\n",
    ">\n",
    "> for instance $log* 265536 = 5$\n",
    "\n",
    "---\n",
    "### Time Complexity\n",
    "\n",
    "Using Disjoint Set with Path compression and Union by Rank, minimizes the Time complexity. \n",
    "\n",
    "#### Hence by using Optimized DisjointSet Data Structure\n",
    "**We get Time Complexity as $O(E*log(V) + \\Theta(\\alpha(E)))$**\n",
    "\n",
    "**i.e $\\Theta(E*log(V))$**\n",
    "\n",
    "\n",
    "#### Sorting Edges by using Linear Sorting Algorithm\n",
    "**Time Complexity = $O(E*\\alpha(V))$** \n",
    "\n",
    "---\n",
    "\n",
    "<span style=\"background-color: #ffa899; padding: 2px;font-size: 23px;\">Almost Linear Time!!.</span>\n"
   ]
  },
  {
   "cell_type": "markdown",
   "metadata": {
    "slideshow": {
     "slide_type": "slide"
    }
   },
   "source": [
    "## Sources <a class=\"anchor\" id=\"sources\"></a>\n",
    "\n",
    "#### Primary References\n",
    "+ Introduction To Algorithms - CLRS (3rd Edition) - Chapter 21 (UnionFind | Disjoint Set) Chapter 27(MST)\n",
    "+ Wikipedia - For Definitions and Complexity Proof\n",
    "    + [Kruskal's Algorithm](https://en.wikipedia.org/wiki/Kruskal%27s_algorithm#Complexity)\n",
    "    + [Disjoint Set](https://en.wikipedia.org/wiki/Disjoint-set_data_structure)\n",
    "    + [Minimum Spanning Tree](https://simple.wikipedia.org/wiki/Minimum_spanning_tree)\n",
    "    + [Spanning Tree](https://en.wikipedia.org/wiki/Spanning_tree)\n",
    "+ Disjoint Set Analysis by https://cp-algorithms.com/data_structures/disjoint_set_union.html\n",
    "+ Relationship between Disjoint and Kruskal's analysis by [UCSD](https://cseweb.ucsd.edu/classes/fa15/cse100-a/lectures-c/Lec13-Graph.pdf)\n",
    "+ Naive Disjoint Set analysis by [Princeton](https://www.cs.princeton.edu/~wayne/kleinberg-tardos/pdf/UnionFind.pdf)\n",
    "+ Kruskal's Analysis by [Stanford](http://web.stanford.edu/class/archive/cs/cs166/cs166.1166/lectures/16/Small16.pdf)\n",
    "\n",
    "#### Other References\n",
    "+ [History Of Minimum Spanning Tree](http://www.math.ucsd.edu/~ronspubs/85_07_minimum_spanning_tree.pdf)\n",
    "\n",
    "\n",
    "#### Library Documentation\n",
    "+ [Markdown](https://www.markdownguide.org/extended-syntax/#escaping-pipe-characters-in-tables)\n",
    "+ [GraphViz](https://github.com/xflr6/graphviz)\n",
    "+ [GraphVizAnim](https://github.com/mapio/GraphvizAnim)\n",
    "+ [RISE](https://github.com/damianavila/RISE)\n",
    "+ [Jupyter Notebook presentation](https://medium.com/learning-machine-learning/present-your-data-science-projects-with-jupyter-slides-75f20735eb0f)\n"
   ]
  }
 ],
 "metadata": {
  "celltoolbar": "Slideshow",
  "kernelspec": {
   "display_name": "Python 3.6.4 32-bit",
   "language": "python",
   "name": "python36432bitc5b69ea5de9642a9ac709db0023171b6"
  },
  "language_info": {
   "codemirror_mode": {
    "name": "ipython",
    "version": 3
   },
   "file_extension": ".py",
   "mimetype": "text/x-python",
   "name": "python",
   "nbconvert_exporter": "python",
   "pygments_lexer": "ipython3",
   "version": "3.6.4"
  },
  "toc": {
   "base_numbering": 1,
   "nav_menu": {
    "height": "479px",
    "width": "512px"
   },
   "number_sections": true,
   "sideBar": true,
   "skip_h1_title": false,
   "title_cell": "Table of Contents",
   "title_sidebar": "Contents",
   "toc_cell": false,
   "toc_position": {},
   "toc_section_display": true,
   "toc_window_display": false
  }
 },
 "nbformat": 4,
 "nbformat_minor": 4
}
